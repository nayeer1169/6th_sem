{
 "cells": [
  {
   "cell_type": "code",
   "execution_count": 1,
   "id": "2fe4395d",
   "metadata": {},
   "outputs": [
    {
     "name": "stdout",
     "output_type": "stream",
     "text": [
      "Guess the number between 1 to 10 = 6\n",
      "Nope, try again\n",
      "Guess the number between 1 to 10 = 4\n",
      "Nope, try again\n",
      "Guess the number between 1 to 10 = 6\n",
      "Nope, try again\n",
      "Guess the number between 1 to 10 = 3\n",
      "Congratulations! You guessed the right number in 6 attempts.\n"
     ]
    }
   ],
   "source": [
    "import random\n",
    "\n",
    "num = random.randint(1, 10)\n",
    "guess = None\n",
    "count = 2\n",
    "\n",
    "while guess != num:\n",
    "    count += 1\n",
    "    guess = input(\"Guess the number between 1 to 10 = \")\n",
    "\n",
    "    if guess.isdigit():\n",
    "        guess = int(guess)\n",
    "        if guess == num:\n",
    "            print(f\"Congratulations! You guessed the right number in {count} attempts.\")\n",
    "        else:\n",
    "            print(\"Nope, try again\")\n",
    "    else:\n",
    "        print(\"Please enter a valid number.\")"
   ]
  },
  {
   "cell_type": "code",
   "execution_count": 2,
   "id": "40da4ff2",
   "metadata": {},
   "outputs": [
    {
     "name": "stdout",
     "output_type": "stream",
     "text": [
      "Enter the number you have guessed:Jet\n",
      "Guess again.\n",
      "Enter the number you have guessed:Zen\n",
      "Guess again.\n",
      "Enter the number you have guessed:Pulsar\n",
      "Guess again.\n",
      "Enter the number you have guessed:\n",
      "Guess again.\n",
      "Enter the number you have guessed:\n",
      "Guess again.\n",
      "The first and last letter of word is: B and t\n",
      "Enter the Guess:Bolt\n",
      "You guessed it right\n"
     ]
    }
   ],
   "source": [
    "#guess the word\n",
    "word=[\"Alaska\" , \"Spice\" , \"Jet\" , \"Pulse\" , \"Zen\" , \"Blaze\" , \"Swift\" , \"Bolt\" , \"Thunder\" , \"Pulsar\"]\n",
    "ran =random.choice(word)\n",
    "count = 10\n",
    "flag = 0\n",
    "\n",
    "while(count!=5):\n",
    "  guess = input(\"Enter the number you have guessed:\")\n",
    "  if guess == ran:\n",
    "    flag+=1\n",
    "    break\n",
    "  else:\n",
    "    print(\"Guess again.\")\n",
    "  count-=1\n",
    "\n",
    "if flag == 1:\n",
    "  print(\"You guessed it right\")\n",
    "else:\n",
    "  print(\"The first and last letter of word is:\" ,ran[0],\"and\",ran[-1])\n",
    "\n",
    "while(count!=0):\n",
    "  guess = input(\"Enter the Guess:\")\n",
    "  if guess== ran:\n",
    "    flag+=1\n",
    "    break\n",
    "  else:\n",
    "    print(\"Guess again\")\n",
    "if flag == 1:\n",
    "  print(\"You guessed it right\")\n",
    "else:\n",
    "  print(\"You lost your chance , The word was:\" ,ran)"
   ]
  },
  {
   "cell_type": "code",
   "execution_count": 13,
   "id": "76f73481",
   "metadata": {},
   "outputs": [
    {
     "name": "stdout",
     "output_type": "stream",
     "text": [
      "[10, 20, 30, 40]\n",
      "[10, 20, 40]\n"
     ]
    },
    {
     "data": {
      "text/plain": [
       "40"
      ]
     },
     "execution_count": 13,
     "metadata": {},
     "output_type": "execute_result"
    }
   ],
   "source": [
    "#List\n",
    "l=[10,20,30]\n",
    "l.append(40)\n",
    "print(l)\n",
    "\n",
    "l.pop(2)\n",
    "print(l)\n",
    "l[2]"
   ]
  },
  {
   "cell_type": "code",
   "execution_count": 18,
   "id": "cbdfa15f",
   "metadata": {},
   "outputs": [
    {
     "name": "stdout",
     "output_type": "stream",
     "text": [
      "(4, 5, 6, 7)\n"
     ]
    },
    {
     "ename": "TypeError",
     "evalue": "'tuple' object does not support item assignment",
     "output_type": "error",
     "traceback": [
      "\u001b[1;31m---------------------------------------------------------------------------\u001b[0m",
      "\u001b[1;31mTypeError\u001b[0m                                 Traceback (most recent call last)",
      "Cell \u001b[1;32mIn[18], line 8\u001b[0m\n\u001b[0;32m      4\u001b[0m t3\u001b[38;5;241m=\u001b[39m(t1\u001b[38;5;241m+\u001b[39mt2)\n\u001b[0;32m      6\u001b[0m \u001b[38;5;28mprint\u001b[39m(t3)\n\u001b[1;32m----> 8\u001b[0m t3[\u001b[38;5;241m3\u001b[39m]\u001b[38;5;241m=\u001b[39m\u001b[38;5;241m5\u001b[39m\n\u001b[0;32m      9\u001b[0m \u001b[38;5;28mprint\u001b[39m(t3)\n",
      "\u001b[1;31mTypeError\u001b[0m: 'tuple' object does not support item assignment"
     ]
    }
   ],
   "source": [
    "#tuple\n",
    "t1=(4,5)\n",
    "t2=(6,7)\n",
    "t3=(t1+t2)\n",
    "\n",
    "print(t3)\n",
    "\n",
    "t3[3]=5\n",
    "print(t3)\n"
   ]
  },
  {
   "cell_type": "code",
   "execution_count": 21,
   "id": "8ca06bbc",
   "metadata": {},
   "outputs": [
    {
     "name": "stdout",
     "output_type": "stream",
     "text": [
      "{1, 2, 3, 4, 5, 6}\n",
      "{3, 4}\n",
      "{1, 2}\n"
     ]
    }
   ],
   "source": [
    "s1={1,2,3,4}\n",
    "s2={3,4,5,6}\n",
    "print(s1.union(s2))\n",
    "print(s1.intersection(s2))\n",
    "print(s1.difference(s2))"
   ]
  },
  {
   "cell_type": "code",
   "execution_count": 37,
   "id": "1841362f",
   "metadata": {},
   "outputs": [
    {
     "name": "stdout",
     "output_type": "stream",
     "text": [
      "{3: 'Car', 4: 'Bike', 2: 'truck'}\n",
      "{3: 'jeep', 4: 'Bike', 2: 'truck'}\n",
      "truck\n"
     ]
    }
   ],
   "source": [
    "d={3:\"Car\",4:\"Bike\"}\n",
    "\n",
    "d[2]=\"truck\"\n",
    "print(d)\n",
    "\n",
    "d[3]=\"jeep\"\n",
    "print(d)\n",
    "\n",
    "print(d[2])\n",
    "\n"
   ]
  },
  {
   "cell_type": "code",
   "execution_count": null,
   "id": "34f25040",
   "metadata": {},
   "outputs": [],
   "source": []
  }
 ],
 "metadata": {
  "kernelspec": {
   "display_name": "Python 3 (ipykernel)",
   "language": "python",
   "name": "python3"
  },
  "language_info": {
   "codemirror_mode": {
    "name": "ipython",
    "version": 3
   },
   "file_extension": ".py",
   "mimetype": "text/x-python",
   "name": "python",
   "nbconvert_exporter": "python",
   "pygments_lexer": "ipython3",
   "version": "3.11.5"
  }
 },
 "nbformat": 4,
 "nbformat_minor": 5
}
