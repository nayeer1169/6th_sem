{
 "cells": [
  {
   "cell_type": "code",
   "execution_count": 25,
   "id": "1d1bf375",
   "metadata": {},
   "outputs": [],
   "source": [
    "import pandas as pd\n"
   ]
  },
  {
   "cell_type": "code",
   "execution_count": 26,
   "id": "ec6c185b",
   "metadata": {},
   "outputs": [],
   "source": [
    "iris_df = pd.read_csv(\"iris.csv\")"
   ]
  },
  {
   "cell_type": "code",
   "execution_count": 27,
   "id": "1722ddc1",
   "metadata": {},
   "outputs": [
    {
     "data": {
      "text/plain": [
       "(150, 6)"
      ]
     },
     "execution_count": 27,
     "metadata": {},
     "output_type": "execute_result"
    }
   ],
   "source": [
    "iris_df.shape"
   ]
  },
  {
   "cell_type": "code",
   "execution_count": 28,
   "id": "402e18af",
   "metadata": {},
   "outputs": [
    {
     "data": {
      "text/plain": [
       "<bound method NDFrame.describe of       Id  SepalLengthCm  SepalWidthCm  PetalLengthCm  PetalWidthCm  \\\n",
       "0      1            5.1           3.5            1.4           0.2   \n",
       "1      2            4.9           3.0            1.4           0.2   \n",
       "2      3            4.7           3.2            1.3           0.2   \n",
       "3      4            4.6           3.1            1.5           0.2   \n",
       "4      5            5.0           3.6            1.4           0.2   \n",
       "..   ...            ...           ...            ...           ...   \n",
       "145  146            6.7           3.0            5.2           2.3   \n",
       "146  147            6.3           2.5            5.0           1.9   \n",
       "147  148            6.5           3.0            5.2           2.0   \n",
       "148  149            6.2           3.4            5.4           2.3   \n",
       "149  150            5.9           3.0            5.1           1.8   \n",
       "\n",
       "            Species  \n",
       "0       Iris-setosa  \n",
       "1       Iris-setosa  \n",
       "2       Iris-setosa  \n",
       "3       Iris-setosa  \n",
       "4       Iris-setosa  \n",
       "..              ...  \n",
       "145  Iris-virginica  \n",
       "146  Iris-virginica  \n",
       "147  Iris-virginica  \n",
       "148  Iris-virginica  \n",
       "149  Iris-virginica  \n",
       "\n",
       "[150 rows x 6 columns]>"
      ]
     },
     "execution_count": 28,
     "metadata": {},
     "output_type": "execute_result"
    }
   ],
   "source": [
    "iris_df.describe"
   ]
  },
  {
   "cell_type": "code",
   "execution_count": 29,
   "id": "710abc33",
   "metadata": {},
   "outputs": [
    {
     "data": {
      "text/html": [
       "<div>\n",
       "<style scoped>\n",
       "    .dataframe tbody tr th:only-of-type {\n",
       "        vertical-align: middle;\n",
       "    }\n",
       "\n",
       "    .dataframe tbody tr th {\n",
       "        vertical-align: top;\n",
       "    }\n",
       "\n",
       "    .dataframe thead th {\n",
       "        text-align: right;\n",
       "    }\n",
       "</style>\n",
       "<table border=\"1\" class=\"dataframe\">\n",
       "  <thead>\n",
       "    <tr style=\"text-align: right;\">\n",
       "      <th></th>\n",
       "      <th>Id</th>\n",
       "      <th>SepalLengthCm</th>\n",
       "      <th>SepalWidthCm</th>\n",
       "      <th>PetalLengthCm</th>\n",
       "      <th>PetalWidthCm</th>\n",
       "      <th>Species</th>\n",
       "    </tr>\n",
       "  </thead>\n",
       "  <tbody>\n",
       "    <tr>\n",
       "      <th>0</th>\n",
       "      <td>1</td>\n",
       "      <td>5.1</td>\n",
       "      <td>3.5</td>\n",
       "      <td>1.4</td>\n",
       "      <td>0.2</td>\n",
       "      <td>Iris-setosa</td>\n",
       "    </tr>\n",
       "    <tr>\n",
       "      <th>1</th>\n",
       "      <td>2</td>\n",
       "      <td>4.9</td>\n",
       "      <td>3.0</td>\n",
       "      <td>1.4</td>\n",
       "      <td>0.2</td>\n",
       "      <td>Iris-setosa</td>\n",
       "    </tr>\n",
       "    <tr>\n",
       "      <th>2</th>\n",
       "      <td>3</td>\n",
       "      <td>4.7</td>\n",
       "      <td>3.2</td>\n",
       "      <td>1.3</td>\n",
       "      <td>0.2</td>\n",
       "      <td>Iris-setosa</td>\n",
       "    </tr>\n",
       "    <tr>\n",
       "      <th>3</th>\n",
       "      <td>4</td>\n",
       "      <td>4.6</td>\n",
       "      <td>3.1</td>\n",
       "      <td>1.5</td>\n",
       "      <td>0.2</td>\n",
       "      <td>Iris-setosa</td>\n",
       "    </tr>\n",
       "    <tr>\n",
       "      <th>4</th>\n",
       "      <td>5</td>\n",
       "      <td>5.0</td>\n",
       "      <td>3.6</td>\n",
       "      <td>1.4</td>\n",
       "      <td>0.2</td>\n",
       "      <td>Iris-setosa</td>\n",
       "    </tr>\n",
       "  </tbody>\n",
       "</table>\n",
       "</div>"
      ],
      "text/plain": [
       "   Id  SepalLengthCm  SepalWidthCm  PetalLengthCm  PetalWidthCm      Species\n",
       "0   1            5.1           3.5            1.4           0.2  Iris-setosa\n",
       "1   2            4.9           3.0            1.4           0.2  Iris-setosa\n",
       "2   3            4.7           3.2            1.3           0.2  Iris-setosa\n",
       "3   4            4.6           3.1            1.5           0.2  Iris-setosa\n",
       "4   5            5.0           3.6            1.4           0.2  Iris-setosa"
      ]
     },
     "execution_count": 29,
     "metadata": {},
     "output_type": "execute_result"
    }
   ],
   "source": [
    "df.head()"
   ]
  },
  {
   "cell_type": "code",
   "execution_count": 30,
   "id": "10ea369f",
   "metadata": {},
   "outputs": [
    {
     "data": {
      "text/html": [
       "<div>\n",
       "<style scoped>\n",
       "    .dataframe tbody tr th:only-of-type {\n",
       "        vertical-align: middle;\n",
       "    }\n",
       "\n",
       "    .dataframe tbody tr th {\n",
       "        vertical-align: top;\n",
       "    }\n",
       "\n",
       "    .dataframe thead th {\n",
       "        text-align: right;\n",
       "    }\n",
       "</style>\n",
       "<table border=\"1\" class=\"dataframe\">\n",
       "  <thead>\n",
       "    <tr style=\"text-align: right;\">\n",
       "      <th></th>\n",
       "      <th>Id</th>\n",
       "      <th>SepalLengthCm</th>\n",
       "      <th>SepalWidthCm</th>\n",
       "      <th>PetalLengthCm</th>\n",
       "      <th>PetalWidthCm</th>\n",
       "      <th>Species</th>\n",
       "    </tr>\n",
       "  </thead>\n",
       "  <tbody>\n",
       "    <tr>\n",
       "      <th>145</th>\n",
       "      <td>146</td>\n",
       "      <td>6.7</td>\n",
       "      <td>3.0</td>\n",
       "      <td>5.2</td>\n",
       "      <td>2.3</td>\n",
       "      <td>Iris-virginica</td>\n",
       "    </tr>\n",
       "    <tr>\n",
       "      <th>146</th>\n",
       "      <td>147</td>\n",
       "      <td>6.3</td>\n",
       "      <td>2.5</td>\n",
       "      <td>5.0</td>\n",
       "      <td>1.9</td>\n",
       "      <td>Iris-virginica</td>\n",
       "    </tr>\n",
       "    <tr>\n",
       "      <th>147</th>\n",
       "      <td>148</td>\n",
       "      <td>6.5</td>\n",
       "      <td>3.0</td>\n",
       "      <td>5.2</td>\n",
       "      <td>2.0</td>\n",
       "      <td>Iris-virginica</td>\n",
       "    </tr>\n",
       "    <tr>\n",
       "      <th>148</th>\n",
       "      <td>149</td>\n",
       "      <td>6.2</td>\n",
       "      <td>3.4</td>\n",
       "      <td>5.4</td>\n",
       "      <td>2.3</td>\n",
       "      <td>Iris-virginica</td>\n",
       "    </tr>\n",
       "    <tr>\n",
       "      <th>149</th>\n",
       "      <td>150</td>\n",
       "      <td>5.9</td>\n",
       "      <td>3.0</td>\n",
       "      <td>5.1</td>\n",
       "      <td>1.8</td>\n",
       "      <td>Iris-virginica</td>\n",
       "    </tr>\n",
       "  </tbody>\n",
       "</table>\n",
       "</div>"
      ],
      "text/plain": [
       "      Id  SepalLengthCm  SepalWidthCm  PetalLengthCm  PetalWidthCm  \\\n",
       "145  146            6.7           3.0            5.2           2.3   \n",
       "146  147            6.3           2.5            5.0           1.9   \n",
       "147  148            6.5           3.0            5.2           2.0   \n",
       "148  149            6.2           3.4            5.4           2.3   \n",
       "149  150            5.9           3.0            5.1           1.8   \n",
       "\n",
       "            Species  \n",
       "145  Iris-virginica  \n",
       "146  Iris-virginica  \n",
       "147  Iris-virginica  \n",
       "148  Iris-virginica  \n",
       "149  Iris-virginica  "
      ]
     },
     "execution_count": 30,
     "metadata": {},
     "output_type": "execute_result"
    }
   ],
   "source": [
    "iris_df.tail()"
   ]
  },
  {
   "cell_type": "code",
   "execution_count": 31,
   "id": "5707385d",
   "metadata": {},
   "outputs": [
    {
     "name": "stdout",
     "output_type": "stream",
     "text": [
      "<class 'pandas.core.frame.DataFrame'>\n",
      "RangeIndex: 150 entries, 0 to 149\n",
      "Data columns (total 6 columns):\n",
      " #   Column         Non-Null Count  Dtype  \n",
      "---  ------         --------------  -----  \n",
      " 0   Id             150 non-null    int64  \n",
      " 1   SepalLengthCm  150 non-null    float64\n",
      " 2   SepalWidthCm   150 non-null    float64\n",
      " 3   PetalLengthCm  150 non-null    float64\n",
      " 4   PetalWidthCm   150 non-null    float64\n",
      " 5   Species        150 non-null    object \n",
      "dtypes: float64(4), int64(1), object(1)\n",
      "memory usage: 7.2+ KB\n"
     ]
    }
   ],
   "source": [
    "iris_df.info()"
   ]
  },
  {
   "cell_type": "code",
   "execution_count": 33,
   "id": "f170e107",
   "metadata": {},
   "outputs": [
    {
     "name": "stdout",
     "output_type": "stream",
     "text": [
      "Sepal length of the first flower: 5.1\n"
     ]
    }
   ],
   "source": [
    "#What is the sepal length of the first flower in the dataset?\n",
    "sepal_length_first_flower = iris_df.loc[0, 'SepalLengthCm']\n",
    "print(\"Sepal length of the first flower:\", sepal_length_first_flower)\n"
   ]
  },
  {
   "cell_type": "code",
   "execution_count": 38,
   "id": "3bde4a26",
   "metadata": {},
   "outputs": [
    {
     "name": "stdout",
     "output_type": "stream",
     "text": [
      "Species of the flower with the longest petal length: Iris-virginica\n"
     ]
    }
   ],
   "source": [
    "#What is the species of the flower with the longest petal length?\n",
    "max_petal_length_index = iris_df['PetalLengthCm'].idxmax()\n",
    "\n",
    "species_of_longest_petal = iris_df.loc[max_petal_length_index, 'Species']\n",
    "\n",
    "print(\"Species of the flower with the longest petal length:\", species_of_longest_petal)\n"
   ]
  },
  {
   "cell_type": "code",
   "execution_count": 41,
   "id": "5a82f3d0",
   "metadata": {},
   "outputs": [
    {
     "name": "stdout",
     "output_type": "stream",
     "text": [
      "Number of flower width greater than 3.5 is 18\n"
     ]
    }
   ],
   "source": [
    "#How many flowers in the dataset have a sepal width greater than 3.5?\n",
    "flowers_width_greater_than_3_5 = iris_df[iris_df['SepalWidthCm']>3.5]\n",
    "\n",
    "number_of_flower_width_gt_3_5 = len(flowers_width_greater_than_3_5)\n",
    "\n",
    "print(\"Number of flower width greater than 3.5 is\",number_of_flower_width_gt_3_5)"
   ]
  },
  {
   "cell_type": "code",
   "execution_count": 56,
   "id": "f4adab72",
   "metadata": {},
   "outputs": [
    {
     "name": "stdout",
     "output_type": "stream",
     "text": [
      "Mean petal width of the flower is  1.3259999999999998\n"
     ]
    }
   ],
   "source": [
    "#What is the mean petal width of the flowers classified as 'versicolor'\n",
    "Iris_versicolor_flower =iris_df[iris_df['Species']=='Iris-versicolor']\n",
    "mean_petal_width_versicolor =  Iris_versicolor_flower['PetalWidthCm'].mean()\n",
    "print(\"Mean petal width of the flower is \",mean_petal_width_versicolor)"
   ]
  },
  {
   "cell_type": "code",
   "execution_count": 58,
   "id": "3a8ecee4",
   "metadata": {},
   "outputs": [
    {
     "name": "stdout",
     "output_type": "stream",
     "text": [
      "Flower with smallest sepal area:\n",
      "Id                            61\n",
      "SepalLengthCm                5.0\n",
      "SepalWidthCm                 2.0\n",
      "PetalLengthCm                3.5\n",
      "PetalWidthCm                 1.0\n",
      "Species          Iris-versicolor\n",
      "sepal_area                  10.0\n",
      "Name: 60, dtype: object\n"
     ]
    }
   ],
   "source": [
    "#Which flower has the smallest sepal area (sepal_length * sepal_width)\n",
    "iris_df['sepal_area']=iris_df['SepalLengthCm'] * iris_df['SepalWidthCm']\n",
    "\n",
    "smallest_sepal_area_index = iris_df['sepal_area'].idxmin()\n",
    "\n",
    "Flower_with_smallest_sepal_area = iris_df.loc[smallest_sepal_area_index]\n",
    "print(\"Flower with smallest sepal area:\")\n",
    "print(Flower_with_smallest_sepal_area)"
   ]
  },
  {
   "cell_type": "code",
   "execution_count": 59,
   "id": "f0c9a23a",
   "metadata": {},
   "outputs": [
    {
     "name": "stdout",
     "output_type": "stream",
     "text": [
      "Number of flowers belonging to the 'virginica' species: 50\n"
     ]
    }
   ],
   "source": [
    "#How many flowers belong to the 'virginica' species?\n",
    "virginica_flowers = iris_df[iris_df['Species']=='Iris-virginica']\n",
    "num_virginica_flower = len(virginica_flowers)\n",
    "print(\"Number of flowers belonging to the 'virginica' species:\",num_virginica_flower)"
   ]
  },
  {
   "cell_type": "code",
   "execution_count": 65,
   "id": "d8d9dc48",
   "metadata": {},
   "outputs": [
    {
     "name": "stdout",
     "output_type": "stream",
     "text": [
      "32\n"
     ]
    }
   ],
   "source": [
    "#What is the maximum sepal length among flowers with a petal width less than 0.2?\n",
    "temp = iris_df[iris_df[\"PetalWidthCm\"] < 0.2]\n",
    "print(temp[\"SepalLengthCm\"].idxmax())"
   ]
  },
  {
   "cell_type": "code",
   "execution_count": 67,
   "id": "51bec017",
   "metadata": {},
   "outputs": [
    {
     "name": "stdout",
     "output_type": "stream",
     "text": [
      "Median petal length of flowers with sepal length between 5.5 and 6.5: 4.6\n"
     ]
    }
   ],
   "source": [
    "#What is the median petal length of the flowers with a sepal length between 5.5 and 6.5?\n",
    "flowers_with_sepal_length_between_5_5_and_6_5 = iris_df[(iris_df['SepalLengthCm'] >= 5.5) & (iris_df['SepalLengthCm'] <= 6.5)]\n",
    "\n",
    "median_petal_length_with_sepal_length_between_5_5_and_6_5 = flowers_with_sepal_length_between_5_5_and_6_5['PetalLengthCm'].median()\n",
    "\n",
    "print(\"Median petal length of flowers with sepal length between 5.5 and 6.5:\", median_petal_length_with_sepal_length_between_5_5_and_6_5)\n"
   ]
  },
  {
   "cell_type": "code",
   "execution_count": 69,
   "id": "286f9340",
   "metadata": {},
   "outputs": [
    {
     "name": "stdout",
     "output_type": "stream",
     "text": [
      "Average sepal width of flowers with a petal length greater than 5 and a sepal length less than 6 is 2.8\n"
     ]
    }
   ],
   "source": [
    "#What is the average sepal width of flowers with a petal length greater than 5 and a sepal length less than 6?\n",
    "filtered_flower = iris_df[(iris_df['PetalLengthCm']>5) & (iris_df['SepalLengthCm']<6)]\n",
    "average_sepal_width = filtered_flower['SepalWidthCm'].mean()\n",
    "print('Average sepal width of flowers with a petal length greater than 5 and a sepal length less than 6 is',average_sepal_width)"
   ]
  },
  {
   "cell_type": "code",
   "execution_count": 70,
   "id": "8d238a33",
   "metadata": {},
   "outputs": [
    {
     "name": "stdout",
     "output_type": "stream",
     "text": [
      "Flower with the highest petal length to width ratio:\n",
      "Id                                      10\n",
      "SepalLengthCm                          4.9\n",
      "SepalWidthCm                           3.1\n",
      "PetalLengthCm                          1.5\n",
      "PetalWidthCm                           0.1\n",
      "Species                        Iris-setosa\n",
      "sepal_area                           15.19\n",
      "petal_length_to_width_ratio           15.0\n",
      "Name: 9, dtype: object\n"
     ]
    }
   ],
   "source": [
    "#Which flower has the highest petal length to width ratio?\n",
    "iris_df['petal_length_to_width_ratio'] = iris_df['PetalLengthCm'] / iris_df['PetalWidthCm']\n",
    "max_ratio_index = iris_df['petal_length_to_width_ratio'].idxmax()\n",
    "flower_with_highest_ratio = iris_df.loc[max_ratio_index]\n",
    "\n",
    "print(\"Flower with the highest petal length to width ratio:\")\n",
    "print(flower_with_highest_ratio)\n"
   ]
  },
  {
   "cell_type": "code",
   "execution_count": null,
   "id": "45ff2992",
   "metadata": {},
   "outputs": [],
   "source": []
  }
 ],
 "metadata": {
  "kernelspec": {
   "display_name": "Python 3 (ipykernel)",
   "language": "python",
   "name": "python3"
  },
  "language_info": {
   "codemirror_mode": {
    "name": "ipython",
    "version": 3
   },
   "file_extension": ".py",
   "mimetype": "text/x-python",
   "name": "python",
   "nbconvert_exporter": "python",
   "pygments_lexer": "ipython3",
   "version": "3.11.5"
  }
 },
 "nbformat": 4,
 "nbformat_minor": 5
}
