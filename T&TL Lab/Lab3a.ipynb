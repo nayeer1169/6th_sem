{
 "cells": [
  {
   "cell_type": "code",
   "execution_count": 24,
   "id": "5e47ed4b",
   "metadata": {},
   "outputs": [
    {
     "name": "stdout",
     "output_type": "stream",
     "text": [
      "[[0. 0. 0.]\n",
      " [0. 0. 0.]]\n",
      "[[1 2 4 5]\n",
      " [6 7 8 9]]\n",
      "[[1. 1. 1. 1.]\n",
      " [1. 1. 1. 1.]\n",
      " [1. 1. 1. 1.]]\n",
      "[ 1  3  5  7  9 11 13 15 17 19 21 23 25 27 29 31 33 35 37 39 41 43 45 47\n",
      " 49]\n"
     ]
    }
   ],
   "source": [
    "#Experiment-11: Create NumPy arrays with different methods (lists, zeros, ones, arange). \n",
    "\n",
    "\n",
    "import numpy as np\n",
    "#zero\n",
    "arr1 = np.zeros((2,3))\n",
    "print(arr1)\n",
    "\n",
    "\n",
    "\n",
    "\n",
    "#list\n",
    "list1 = [1,2,4,5]\n",
    "list2 = [6,7,8,9]\n",
    "arr2=np.array([list1,list2])\n",
    "print(arr2)\n",
    "\n",
    "\n",
    "\n",
    "\n",
    "\n",
    "#ones\n",
    "arr4 = np.ones((3,4))\n",
    "print(arr4)\n",
    "\n",
    "\n",
    "\n",
    "\n",
    "#arange\n",
    "arr5=np.arange(1,50,2)\n",
    "print(arr5)"
   ]
  },
  {
   "cell_type": "code",
   "execution_count": 31,
   "id": "0a8d1aa4",
   "metadata": {},
   "outputs": [
    {
     "name": "stdout",
     "output_type": "stream",
     "text": [
      "Addition [ 4  6 12 14]\n",
      "Substraction [-2 -2 -2 -2]\n",
      "Multiplication [ 3  8 35 48]\n",
      "Division [0.33333333 0.5        0.71428571 0.75      ]\n"
     ]
    }
   ],
   "source": [
    "# Perform mathematical operations on NumPy arrays (addition, subtraction, multiplication, division).\n",
    "arr1=np.array([1,2,5,6])\n",
    "arr2=np.array([3,4,7,8])\n",
    "\n",
    "print(\"Addition\",arr1+arr2)\n",
    "print(\"Substraction\",arr1-arr2)\n",
    "print(\"Multiplication\",arr1*arr2)\n",
    "print(\"Division\",arr1/arr2)\n",
    "\n",
    "\n"
   ]
  },
  {
   "cell_type": "code",
   "execution_count": 38,
   "id": "9991adf4",
   "metadata": {},
   "outputs": [
    {
     "name": "stdout",
     "output_type": "stream",
     "text": [
      "Slicing [2 5 8]\n",
      "indexing: 6\n"
     ]
    }
   ],
   "source": [
    "# Practice indexing and slicing NumPy arrays.\n",
    "a=np.arange(20)\n",
    "s=slice(2,9,3)\n",
    "print(\"Slicing\",a[s])\n",
    "\n",
    "#indexing\n",
    "arr=np.array([[1,3,5],[4,5,6],[7,8,9]])\n",
    "print(\"indexing:\",arr[1,2])"
   ]
  },
  {
   "cell_type": "code",
   "execution_count": 42,
   "id": "3cea3508",
   "metadata": {},
   "outputs": [
    {
     "name": "stdout",
     "output_type": "stream",
     "text": [
      "Mean: 5.444444444444445\n",
      "Median: 6.0\n",
      "Mode: 9\n"
     ]
    }
   ],
   "source": [
    "from scipy import stats\n",
    "arr=np.array([6,7,8,9,1,2,3,4,9])\n",
    "\n",
    "print(\"Mean:\",np.mean(arr))\n",
    "print(\"Median:\",np.median(arr))\n",
    "print(\"Mode:\",stats.mode(arr)[0])"
   ]
  },
  {
   "cell_type": "code",
   "execution_count": 43,
   "id": "845893de",
   "metadata": {},
   "outputs": [
    {
     "name": "stdout",
     "output_type": "stream",
     "text": [
      "Reshaped array:\n",
      " [3 4 7 8]\n"
     ]
    }
   ],
   "source": [
    "arr = np.array([[1,2],[4,5],[2,7],[8,9]])\n",
    "print(\"Reshaped array:\\n\",arr2)"
   ]
  },
  {
   "cell_type": "code",
   "execution_count": null,
   "id": "13a94efd",
   "metadata": {},
   "outputs": [],
   "source": []
  }
 ],
 "metadata": {
  "kernelspec": {
   "display_name": "Python 3 (ipykernel)",
   "language": "python",
   "name": "python3"
  },
  "language_info": {
   "codemirror_mode": {
    "name": "ipython",
    "version": 3
   },
   "file_extension": ".py",
   "mimetype": "text/x-python",
   "name": "python",
   "nbconvert_exporter": "python",
   "pygments_lexer": "ipython3",
   "version": "3.11.5"
  }
 },
 "nbformat": 4,
 "nbformat_minor": 5
}
